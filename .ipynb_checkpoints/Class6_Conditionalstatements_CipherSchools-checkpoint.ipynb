{
 "cells": [
  {
   "cell_type": "markdown",
   "metadata": {
    "colab_type": "text",
    "id": "view-in-github"
   },
   "source": [
    "<a href=\"https://colab.research.google.com/github/githubashmit/week1-Python-CipherSchools/blob/main/Class6_Conditionalstatements_CipherSchools.ipynb\" target=\"_parent\"><img src=\"https://colab.research.google.com/assets/colab-badge.svg\" alt=\"Open In Colab\"/></a>"
   ]
  },
  {
   "cell_type": "code",
   "execution_count": null,
   "metadata": {
    "id": "Pk7ubHryIK6I"
   },
   "outputs": [],
   "source": [
    "if (true) {\n",
    "    \n",
    "    \n",
    "}"
   ]
  },
  {
   "cell_type": "code",
   "execution_count": null,
   "metadata": {
    "id": "KKT6Mj-WISU-"
   },
   "outputs": [],
   "source": [
    "a=True\n",
    "if True"
   ]
  },
  {
   "cell_type": "code",
   "execution_count": null,
   "metadata": {
    "id": "56u_26heIWfH"
   },
   "outputs": [],
   "source": [
    "# askldjf\n",
    "    # asdf\n",
    "    # alksdjf\n",
    "# asdf"
   ]
  },
  {
   "cell_type": "code",
   "execution_count": null,
   "metadata": {
    "id": "8Vd_9LWGIYoX"
   },
   "outputs": [],
   "source": [
    "#1 indent = 2 spaces, 4 spaces, tab, 8 spaces"
   ]
  },
  {
   "cell_type": "code",
   "execution_count": null,
   "metadata": {
    "id": "F5BYXTT8Iay5"
   },
   "outputs": [],
   "source": [
    "a = False\n",
    "\n",
    "if a:\n",
    "  print(\"the value is true\")\n",
    "print(\"end\")"
   ]
  },
  {
   "cell_type": "code",
   "execution_count": 1,
   "metadata": {
    "colab": {
     "base_uri": "https://localhost:8080/"
    },
    "id": "BWmwW8tdIdOn",
    "outputId": "f333ab4a-758c-42f6-a681-9d28eb19f64e"
   },
   "outputs": [
    {
     "name": "stdout",
     "output_type": "stream",
     "text": [
      "the value is true\n",
      "end\n"
     ]
    }
   ],
   "source": [
    "a = True\n",
    "\n",
    "if a:\n",
    "  print(\"the value is true\")\n",
    "print(\"end\")"
   ]
  },
  {
   "cell_type": "code",
   "execution_count": 2,
   "metadata": {
    "colab": {
     "base_uri": "https://localhost:8080/"
    },
    "id": "Z_VD-sNmIjlc",
    "outputId": "90e79f09-1365-45e0-9fe7-f2ff7e3d3987"
   },
   "outputs": [
    {
     "name": "stdout",
     "output_type": "stream",
     "text": [
      "this value is true\n"
     ]
    }
   ],
   "source": [
    "a = True\n",
    "\n",
    "if a:\n",
    "  print(\"this value is true\")\n",
    "else:\n",
    "  print(\"this is false\")"
   ]
  },
  {
   "cell_type": "code",
   "execution_count": 2,
   "metadata": {
    "id": "7QxV0EFdImcv"
   },
   "outputs": [],
   "source": [
    "a = 5\n",
    "\n",
    "if a == 3:\n",
    "  print(\"the value is 3\")\n",
    "elif a== 5:\n",
    "  print(\"this value is 5\")"
   ]
  },
  {
   "cell_type": "code",
   "execution_count": 3,
   "metadata": {
    "colab": {
     "base_uri": "https://localhost:8080/",
     "height": 130
    },
    "id": "zelYCdn4Iru-",
    "outputId": "a9890571-d9c5-49d4-a3ba-7471f622b5e3"
   },
   "outputs": [
    {
     "ename": "SyntaxError",
     "evalue": "ignored",
     "output_type": "error",
     "traceback": [
      "\u001b[0;36m  File \u001b[0;32m\"<ipython-input-3-3f8f71448e55>\"\u001b[0;36m, line \u001b[0;32m2\u001b[0m\n\u001b[0;31m    int a = 1\u001b[0m\n\u001b[0m        ^\u001b[0m\n\u001b[0;31mSyntaxError\u001b[0m\u001b[0;31m:\u001b[0m invalid syntax\n"
     ]
    }
   ],
   "source": [
    "(\n",
    "    int a = 1\n",
    ")\n",
    "cout << a;"
   ]
  },
  {
   "cell_type": "code",
   "execution_count": 4,
   "metadata": {
    "colab": {
     "base_uri": "https://localhost:8080/"
    },
    "id": "Mu1g8DYWIxkN",
    "outputId": "abf69e9a-b309-4ac0-c330-4ebdbf89b83b"
   },
   "outputs": [
    {
     "name": "stdout",
     "output_type": "stream",
     "text": [
      "this value is 5\n"
     ]
    }
   ],
   "source": [
    "a = 5\n",
    "\n",
    "if a == 3:\n",
    "  print(\"this value is 3\")\n",
    "elif a == 5:\n",
    "  print(\"this value is 5\")\n",
    "else:\n",
    "  print(\"this value is not 3 or 5\")"
   ]
  },
  {
   "cell_type": "code",
   "execution_count": 5,
   "metadata": {
    "colab": {
     "base_uri": "https://localhost:8080/",
     "height": 130
    },
    "id": "F6WX7smPI3SY",
    "outputId": "1b0d4699-0cf8-468c-c620-29fcb67e3db0"
   },
   "outputs": [
    {
     "ename": "SyntaxError",
     "evalue": "ignored",
     "output_type": "error",
     "traceback": [
      "\u001b[0;36m  File \u001b[0;32m\"<ipython-input-5-2d4a28782c13>\"\u001b[0;36m, line \u001b[0;32m2\u001b[0m\n\u001b[0;31m    G -> x\u001b[0m\n\u001b[0m       ^\u001b[0m\n\u001b[0;31mSyntaxError\u001b[0m\u001b[0;31m:\u001b[0m invalid syntax\n"
     ]
    }
   ],
   "source": [
    "x: int (-inf, inf)\n",
    "G -> x\n",
    "\n",
    "a = x < 0\n",
    "b = x == 0\n",
    "c = x > 0\n",
    "\n",
    "a int b = b int c = a int c = phi\n",
    "\n",
    "a u b u c := G\n",
    "\n",
    "#conditions are mutually exclusive"
   ]
  },
  {
   "cell_type": "code",
   "execution_count": 6,
   "metadata": {
    "colab": {
     "base_uri": "https://localhost:8080/",
     "height": 235
    },
    "id": "mZUlHKmpI7f7",
    "outputId": "d789c8ce-11b2-4e0e-e413-cc7d57cb2f4e"
   },
   "outputs": [
    {
     "ename": "NameError",
     "evalue": "ignored",
     "output_type": "error",
     "traceback": [
      "\u001b[0;31m---------------------------------------------------------------------------\u001b[0m",
      "\u001b[0;31mNameError\u001b[0m                                 Traceback (most recent call last)",
      "\u001b[0;32m<ipython-input-6-9442f8697447>\u001b[0m in \u001b[0;36m<module>\u001b[0;34m\u001b[0m\n\u001b[1;32m      1\u001b[0m \u001b[0;31m#Whats not cool with this approach?\u001b[0m\u001b[0;34m\u001b[0m\u001b[0;34m\u001b[0m\u001b[0;34m\u001b[0m\u001b[0m\n\u001b[0;32m----> 2\u001b[0;31m \u001b[0;32mif\u001b[0m \u001b[0mx\u001b[0m \u001b[0;34m<\u001b[0m \u001b[0;36m0\u001b[0m\u001b[0;34m:\u001b[0m\u001b[0;34m\u001b[0m\u001b[0;34m\u001b[0m\u001b[0m\n\u001b[0m\u001b[1;32m      3\u001b[0m   \u001b[0msign\u001b[0m \u001b[0;34m=\u001b[0m \u001b[0;34m-\u001b[0m\u001b[0;36m1\u001b[0m\u001b[0;34m\u001b[0m\u001b[0;34m\u001b[0m\u001b[0m\n\u001b[1;32m      4\u001b[0m \u001b[0;32mif\u001b[0m \u001b[0mx\u001b[0m \u001b[0;34m==\u001b[0m \u001b[0;36m0\u001b[0m\u001b[0;34m:\u001b[0m\u001b[0;34m\u001b[0m\u001b[0;34m\u001b[0m\u001b[0m\n\u001b[1;32m      5\u001b[0m   \u001b[0msign\u001b[0m \u001b[0;34m=\u001b[0m \u001b[0;36m0\u001b[0m\u001b[0;34m\u001b[0m\u001b[0;34m\u001b[0m\u001b[0m\n",
      "\u001b[0;31mNameError\u001b[0m: name 'x' is not defined"
     ]
    }
   ],
   "source": [
    "#Whats not cool with this approach?\n",
    "if x < 0:\n",
    "  sign = -1\n",
    "if x == 0:\n",
    "  sign = 0\n",
    "if x > 0:\n",
    "  sign = 1"
   ]
  },
  {
   "cell_type": "code",
   "execution_count": 7,
   "metadata": {
    "colab": {
     "base_uri": "https://localhost:8080/",
     "height": 130
    },
    "id": "xD9VgU7jI_KD",
    "outputId": "bd7c1234-94c3-43c6-a210-a3541ef56caa"
   },
   "outputs": [
    {
     "ename": "SyntaxError",
     "evalue": "ignored",
     "output_type": "error",
     "traceback": [
      "\u001b[0;36m  File \u001b[0;32m\"<ipython-input-7-6b50c9225299>\"\u001b[0;36m, line \u001b[0;32m1\u001b[0m\n\u001b[0;31m    q = can profile A access profile B\u001b[0m\n\u001b[0m                  ^\u001b[0m\n\u001b[0;31mSyntaxError\u001b[0m\u001b[0;31m:\u001b[0m invalid syntax\n"
     ]
    }
   ],
   "source": [
    "q = can profile A access profile B\n",
    "\n",
    "a = isFriend\n",
    "b = isBlocked\n",
    "c = isAdmin\n",
    "d = isMarkzuckerburg\n",
    "\n",
    "a b c d q\n",
    "0 0 0 0 0\n",
    "0 0 0 1 1\n",
    "0 0 1 0 1\n",
    "0 0 1 1 1\n",
    "0 1 0 0 0 \n",
    "0 1 0 1 1\n",
    "0 1 1 0 0\n",
    "0 1 1 1 1\n",
    "1 0 0 0 1\n",
    "1 0 0 1 1\n",
    "1 0 1 0 1\n",
    "1 0 1 1 1\n",
    "1 1 0 0 0\n",
    "1 1 0 1 1\n",
    "1 1 1 0 0 \n",
    "1 1 1 1 1\n",
    "\n",
    "if ____:\n",
    "  print(\"has access\")\n",
    "else:\n",
    "  print(\"access denied\")"
   ]
  }
 ],
 "metadata": {
  "colab": {
   "authorship_tag": "ABX9TyMA21JUb16IyYIuMvdCkt6m",
   "include_colab_link": true,
   "provenance": []
  },
  "kernelspec": {
   "display_name": "Python 3",
   "name": "python3"
  },
  "language_info": {
   "name": "python"
  }
 },
 "nbformat": 4,
 "nbformat_minor": 0
}
